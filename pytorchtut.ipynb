{
 "cells": [
  {
   "cell_type": "markdown",
   "metadata": {},
   "source": [
    "# PyTorch With Baby Steps: From y = x To Training A Convolutional Neural Network"
   ]
  },
  {
   "cell_type": "markdown",
   "metadata": {},
   "source": [
    "[Take me to the outline!](#outline)"
   ]
  },
  {
   "cell_type": "markdown",
   "metadata": {},
   "source": [
    "## Motivation:"
   ]
  },
  {
   "cell_type": "markdown",
   "metadata": {},
   "source": [
    "As I was going through the Deep Learning Blitz tutorial from pytorch.org (found here: http://pytorch.org/tutorials/beginner/deep_learning_60min_blitz.html), I had a lot of questions. I googled my way through all of them, but I had wished there was a more extensive example set (i.e. starting from a really basic model all the way to a CNN). That way I could see very clearly, through examples, what each component did in isolation.\n",
    "\n",
    "Since I did that for myself, I figured I might as well put it online for everyone else who's learning PyTorch. This is not designed to be an end-all-be-all tutorial (in fact, I use a lot of pytorch tutorial code myself), so for each section, I'll link to various resources that helped me understand the concepts. Hopefully, in conjunction with the examples, it'll be helpful.\n",
    "\n",
    "Please feel free to email me if you have any questions or suggestions: jlelonmitchell@gmail.com\n",
    "\n",
    "Here are other things I might do more tutorials on if reception is good and people request them:\n",
    "\n",
    "network architecture, batch normalization, vanishing gradients, dropout, initialization techniques, non-convex optimization, biases, choices of loss functions, data augmentation, regularization methods, computational considerations, modifications of backpropagation"
   ]
  },
  {
   "cell_type": "markdown",
   "metadata": {},
   "source": [
    "# Outline: <a id='outline'></a>\n",
    "\n",
    "1) [Bare Minimum Model](#one): create an absolute bare minimum model with Tensors\n",
    "\n",
    "2) [Basic Linear Regression Model](#two): create a basic linear regression model (i.e. no training or anything yet; just initializing it and doing the calculation)\n",
    "\n",
    "3) [Calculate Loss](#three): calculate our (linear regression) model's loss using a loss function\n",
    "\n",
    "4) [Calculating Our Gradient](#four): calculate our gradient based on the previous loss function\n",
    "\n",
    "5) [Recalculating/Updating Our Weights](#five): calculate the change in our weights based on the gradient and updating them\n",
    "\n",
    "6) [Updating Our Weights More Than Once](#six): set up a for loop to do steps 3-5 an arbitrary number of times (i.e. epochs)\n",
    "\n",
    "7) [Making Our Epochs Only Use A Subset Of The Data](#seven): make the for loop only use a portion of the data (i.e. a batch)\n",
    "\n",
    "8) [Changing Our Model from Linear Regression to Neural Network](#eight): make it fit the data better\n",
    "\n",
    "9) [Abstracting Our Neural Network Into Its Pytorch Class](#nine): make it more maintainable and less messy\n",
    "\n",
    "10) [Changing Our Input From Arbitrary Vectors To Images](#ten): make it do something more interesting\n",
    "\n",
    "11) [Adding A Convolutional Layer](#eleven): make our model do convolutions before it does the other stuff\n",
    "\n",
    "12) [Adding A Pooling Layer](#twelve): make our model faster by only taking the biggest \"most important\" values into consideration\n",
    "\n",
    "13) [Making More Optimizations](#thirteen): change our activation functions to ReLU, add more layers, and other housekeeping\n",
    "\n",
    "14) [Bask in the glory of our newly minted Convolutional Neural Network](#fourteen)"
   ]
  },
  {
   "cell_type": "code",
   "execution_count": 1,
   "metadata": {
    "collapsed": true
   },
   "outputs": [],
   "source": [
    "import torch # Tensor Package (for use on GPU)\n",
    "from torch.autograd import Variable # for computational graphs\n",
    "import torch.nn as nn ## Neural Network package\n",
    "import torch.nn.functional as F # Non-linearities package\n",
    "import torch.optim as optim # Optimization package\n",
    "from torch.utils.data import Dataset, TensorDataset, DataLoader # for dealing with data\n",
    "import torchvision # for dealing with vision data\n",
    "import torchvision.transforms as transforms # for modifying vision data to run it through models\n",
    "\n",
    "import matplotlib.pyplot as plt # for plotting\n",
    "import numpy as np"
   ]
  },
  {
   "cell_type": "markdown",
   "metadata": {},
   "source": [
    "<a id='one'></a>"
   ]
  },
  {
   "cell_type": "markdown",
   "metadata": {},
   "source": [
    "# 1)  Bare Minimum Model: "
   ]
  },
  {
   "cell_type": "markdown",
   "metadata": {},
   "source": [
    "#### [Home](#outline)  |   [Back](#outline)  |   [Next](#two)"
   ]
  },
  {
   "cell_type": "markdown",
   "metadata": {},
   "source": [
    "Links:\n",
    "- http://pytorch.org/tutorials/beginner/blitz/tensor_tutorial.html - Pytorch's Tensor Tutorial\n",
    "- https://www.google.com/search?q=PyTorch+Tensor+Examples - More Examples"
   ]
  },
  {
   "cell_type": "markdown",
   "metadata": {},
   "source": [
    "### Quick Tensor Demonstration:"
   ]
  },
  {
   "cell_type": "code",
   "execution_count": 2,
   "metadata": {
    "collapsed": true
   },
   "outputs": [],
   "source": [
    "# here's a one dimensional array the pytorch way (i.e. allowing GPU computations):\n",
    "x1 = torch.Tensor([1, 2, 3, 4])\n",
    "\n",
    "# here's a two dimensional array (i.e. of size 2 x 4):\n",
    "x2 = torch.Tensor([[5, 6, 7, 8], [9, 10, 11, 12]])\n",
    "\n",
    "# here's a three dimensional array (i.e. of size 2 x 2 x 4):\n",
    "x3 = torch.Tensor([[[1, 2, 3, 4], [5, 6, 7, 8]], [[9, 10, 11, 12], [13, 14, 15, 16]]])"
   ]
  },
  {
   "cell_type": "code",
   "execution_count": 3,
   "metadata": {},
   "outputs": [
    {
     "name": "stdout",
     "output_type": "stream",
     "text": [
      "----------------------------------------\n",
      "1.0\n",
      "----------------------------------------\n"
     ]
    }
   ],
   "source": [
    "# x1\n",
    "\n",
    "print(\"----------------------------------------\")\n",
    "print(x1[0])\n",
    "print(\"----------------------------------------\")\n",
    "# prints 1.0"
   ]
  },
  {
   "cell_type": "code",
   "execution_count": 4,
   "metadata": {},
   "outputs": [
    {
     "name": "stdout",
     "output_type": "stream",
     "text": [
      "----------------------------------------\n",
      "5.0\n",
      "----------------------------------------\n",
      "\n",
      " 5\n",
      " 6\n",
      " 7\n",
      " 8\n",
      "[torch.FloatTensor of size 4]\n",
      "\n",
      "----------------------------------------\n",
      "\n",
      "  7\n",
      " 11\n",
      "[torch.FloatTensor of size 2]\n",
      "\n",
      "----------------------------------------\n"
     ]
    }
   ],
   "source": [
    "# x2\n",
    "\n",
    "print(\"----------------------------------------\")\n",
    "print(x2[0, 0]) \n",
    "# prints 5.0; the first entry of the first vector\n",
    "\n",
    "print(\"----------------------------------------\")\n",
    "print(x2[0, :]) \n",
    "# prints 5, 6, 7, 8; all the entries of the first vector\n",
    "\n",
    "print(\"----------------------------------------\")\n",
    "print(x2[:, 2])\n",
    "print(\"----------------------------------------\")\n",
    "# prints 7, 11; all the third entries of each vector vector"
   ]
  },
  {
   "cell_type": "code",
   "execution_count": 5,
   "metadata": {},
   "outputs": [
    {
     "name": "stdout",
     "output_type": "stream",
     "text": [
      "----------------------------------------\n",
      "1.0\n",
      "----------------------------------------\n",
      "\n",
      " 1\n",
      " 9\n",
      "[torch.FloatTensor of size 2]\n",
      "\n",
      "----------------------------------------\n",
      "\n",
      " 1\n",
      " 5\n",
      "[torch.FloatTensor of size 2]\n",
      "\n",
      "----------------------------------------\n",
      "\n",
      " 1\n",
      " 2\n",
      " 3\n",
      " 4\n",
      "[torch.FloatTensor of size 4]\n",
      "\n",
      "----------------------------------------\n"
     ]
    }
   ],
   "source": [
    "# x3\n",
    "\n",
    "print(\"----------------------------------------\")\n",
    "print(x3[0, 0, 0]) \n",
    "# prints 1.0; the first entry of the first vector of the first set of vectors\n",
    "\n",
    "print(\"----------------------------------------\")\n",
    "print(x3[:, 0, 0]) \n",
    "# prints 1, 9; the first entry of each first vector in each set of vectors\n",
    "\n",
    "print(\"----------------------------------------\")\n",
    "print(x3[0, :, 0]) \n",
    "# prints 1, 5; pick the first set of vectors, and from each vector, choose the first entry\n",
    "\n",
    "print(\"----------------------------------------\")\n",
    "print(x3[0, 0, :]) \n",
    "print(\"----------------------------------------\")\n",
    "# prints 1, 2, 3, 4; everything in the first vector of the first set"
   ]
  },
  {
   "cell_type": "markdown",
   "metadata": {},
   "source": [
    "### Bare Minimum Model (y = x)"
   ]
  },
  {
   "cell_type": "code",
   "execution_count": 6,
   "metadata": {},
   "outputs": [
    {
     "name": "stdout",
     "output_type": "stream",
     "text": [
      "----------------------------------------\n",
      "Variable containing:\n",
      " 1\n",
      " 2\n",
      " 3\n",
      " 4\n",
      "[torch.FloatTensor of size 4]\n",
      "\n",
      "----------------------------------------\n"
     ]
    }
   ],
   "source": [
    "x1_node = Variable(x1, requires_grad=True)\n",
    "# we put our tensor in a Variable so we can use it for training and other stuff later\n",
    "\n",
    "print(\"----------------------------------------\")\n",
    "print(x1_node)\n",
    "print(\"----------------------------------------\")\n",
    "# prints Variable containing 1, 2, 3, 4"
   ]
  },
  {
   "cell_type": "code",
   "execution_count": 7,
   "metadata": {},
   "outputs": [
    {
     "name": "stdout",
     "output_type": "stream",
     "text": [
      "----------------------------------------\n",
      "Variable containing:\n",
      " 1\n",
      " 2\n",
      " 3\n",
      " 4\n",
      "[torch.FloatTensor of size 4]\n",
      "\n",
      "----------------------------------------\n"
     ]
    }
   ],
   "source": [
    "y_node = x1_node\n",
    "# we did some \"stuff\" to x1_node (except we didn't do anything) and then assigned the result to a new y variable\n",
    "\n",
    "print(\"----------------------------------------\")\n",
    "print(y_node)\n",
    "print(\"----------------------------------------\")\n",
    "# prints Variable containing 1, 2, 3, 4"
   ]
  },
  {
   "cell_type": "markdown",
   "metadata": {},
   "source": [
    "<a id='two'></a>"
   ]
  },
  {
   "cell_type": "markdown",
   "metadata": {},
   "source": [
    "# 2)  Basic Linear Regression Model "
   ]
  },
  {
   "cell_type": "markdown",
   "metadata": {},
   "source": [
    "Links:\n",
    "- http://pytorch.org/docs/0.3.1/nn.html#linear-layers - pytorch linear layer documentation\n",
    "- https://www.khanacademy.org/math/ap-statistics/bivariate-data-ap/least-squares-regression/v/example-estimating-from-regression-line - Khan Academy\n",
    "- https://www.google.com/search?q=Linear+Regression+Examples - More Examples"
   ]
  },
  {
   "cell_type": "markdown",
   "metadata": {},
   "source": [
    "#### [Home](#outline)  |   [Back](#one)  |   [Next](#three)"
   ]
  },
  {
   "cell_type": "code",
   "execution_count": 8,
   "metadata": {},
   "outputs": [
    {
     "name": "stdout",
     "output_type": "stream",
     "text": [
      "----------------------------------------\n",
      "Variable containing:\n",
      "-0.6885\n",
      "[torch.FloatTensor of size 1]\n",
      "\n",
      "----------------------------------------\n"
     ]
    }
   ],
   "source": [
    "x1 = torch.Tensor([1, 2, 3, 4])\n",
    "x1_var = Variable(x1, requires_grad=True)\n",
    "\n",
    "linear_layer1 = nn.Linear(4, 1)\n",
    "# create a linear layer (i.e. a linear equation: w1x1 + w2x2 + w3x3 + w4x4 + b, with 4 inputs and 1 output)\n",
    "# w and b stand for weight and bias, respectively\n",
    "\n",
    "predicted_y = linear_layer1(x1_var)\n",
    "# run the x1 variable through the linear equation and put the output in predicted_y\n",
    "\n",
    "print(\"----------------------------------------\")\n",
    "print(predicted_y)\n",
    "print(\"----------------------------------------\")\n",
    "# prints the predicted y value (the weights and bias are initialized randomly; my output was 1.3712)"
   ]
  },
  {
   "cell_type": "markdown",
   "metadata": {},
   "source": [
    "<a id='three'></a>"
   ]
  },
  {
   "cell_type": "markdown",
   "metadata": {
    "collapsed": true
   },
   "source": [
    "# 3)  Calculating The Loss Function "
   ]
  },
  {
   "cell_type": "markdown",
   "metadata": {},
   "source": [
    "Links:\n",
    "- https://stackoverflow.com/questions/42877989/what-is-a-loss-function-in-simple-words - good SO post\n",
    "- http://pytorch.org/docs/0.3.1/nn.html#id38 - pytorch loss functions documentation\n",
    "- https://en.wikipedia.org/wiki/Loss_function - wikipedia\n",
    "- https://www.google.com/search?q=Loss+Function+Examples - More Examples\n"
   ]
  },
  {
   "cell_type": "markdown",
   "metadata": {},
   "source": [
    "#### [Home](#outline)  |   [Back](#two)  |   [Next](#four)"
   ]
  },
  {
   "cell_type": "code",
   "execution_count": 9,
   "metadata": {},
   "outputs": [
    {
     "name": "stdout",
     "output_type": "stream",
     "text": [
      "----------------------------------------\n",
      "Variable containing:\n",
      "-0.2311\n",
      "[torch.FloatTensor of size 1]\n",
      "\n",
      "----------------------------------------\n",
      "Variable containing:\n",
      "1.00000e-02 *\n",
      "  5.3404\n",
      "[torch.FloatTensor of size 1]\n",
      "\n",
      "----------------------------------------\n"
     ]
    }
   ],
   "source": [
    "x1 = torch.Tensor([1, 2, 3, 4])\n",
    "x1_var = Variable(x1, requires_grad=True)\n",
    "\n",
    "linear_layer1 = nn.Linear(4, 1)\n",
    "\n",
    "target_y = Variable(torch.Tensor([0]), requires_grad=False)\n",
    "# ideally, we want our model to predict 0 when we input our x1_var variable below.\n",
    "# here we're just sticking a Tensor with just 0 in it into a variable, and labeling it our target y value\n",
    "# I put requires_grad=False because we're not computing any gradient with respect to our target (more on that later)\n",
    "\n",
    "predicted_y = linear_layer1(x1_var)\n",
    "print(\"----------------------------------------\")\n",
    "print(predicted_y)\n",
    "print(\"----------------------------------------\")\n",
    "# prints 3.0995 for me; will probably be different for you.\n",
    "\n",
    "loss_function = nn.MSELoss()\n",
    "# this creates a function that takes a ground-truth Tensor and your model's output Tensor as inputs and calculates the \"loss\"\n",
    "# in this case, it calculates the Mean Squared Error (a measurement for how far away your output is from where it should be)\n",
    "\n",
    "loss = loss_function(predicted_y, target_y)\n",
    "# here we actually use the function to compare our predicted_y vs our target_y\n",
    "\n",
    "print(loss)\n",
    "print(\"----------------------------------------\")\n",
    "# prints 9.6067 for me; will probably be different for you. It's just (target_y - predicted_y)^2 in this case."
   ]
  },
  {
   "cell_type": "markdown",
   "metadata": {},
   "source": [
    "<a id='four'></a>"
   ]
  },
  {
   "cell_type": "markdown",
   "metadata": {
    "collapsed": true
   },
   "source": [
    "# 4)  Calculating Our Gradient (based on the loss function) "
   ]
  },
  {
   "cell_type": "markdown",
   "metadata": {},
   "source": [
    "Links:\n",
    "- http://pytorch.org/tutorials/beginner/blitz/autograd_tutorial.html - pytorch's automatic gradient package\n",
    "- https://discuss.pytorch.org/t/how-the-backward-works-for-torch-variable/907/3 - good discussion on pytorch forums\n",
    "- https://www.khanacademy.org/math/multivariable-calculus/multivariable-derivatives/gradient-and-directional-derivatives/v/gradient - Khan Academy\n",
    "- https://www.google.com/search?q=Machine+Learning+Gradient+Examples - More Examples"
   ]
  },
  {
   "cell_type": "markdown",
   "metadata": {},
   "source": [
    "#### [Home](#outline)  |   [Back](#three)  |   [Next](#five)"
   ]
  },
  {
   "cell_type": "code",
   "execution_count": 10,
   "metadata": {},
   "outputs": [
    {
     "name": "stdout",
     "output_type": "stream",
     "text": [
      "----------------------------------------\n",
      "None\n",
      "----------------------------------------\n",
      "Variable containing:\n",
      "-0.7361\n",
      "-1.0644\n",
      " 1.4180\n",
      " 1.2542\n",
      "[torch.FloatTensor of size 4]\n",
      "\n",
      "----------------------------------------\n"
     ]
    }
   ],
   "source": [
    "x1 = torch.Tensor([1, 2, 3, 4])\n",
    "x1_var = Variable(x1, requires_grad=True)\n",
    "\n",
    "linear_layer1 = nn.Linear(4, 1)\n",
    "\n",
    "target_y = Variable(torch.Tensor([0]), requires_grad=False)\n",
    "\n",
    "predicted_y = linear_layer1(x1_var)\n",
    "\n",
    "loss_function = nn.MSELoss()\n",
    "\n",
    "loss = loss_function(predicted_y, target_y)\n",
    "\n",
    "# at this point, we want the gradient of our loss function with respect to our original input, x\n",
    "# the Variable object we put our Tensor in is supposed to store its respective gradients, so let's look:\n",
    "\n",
    "print(\"----------------------------------------\")\n",
    "print(x1_var.grad)\n",
    "print(\"----------------------------------------\")\n",
    "\n",
    "# this prints None, because we haven't computed any gradients yet.\n",
    "# we have to call the backward() function from our loss results in order to compute gradients with respect to x\n",
    "\n",
    "loss.backward()\n",
    "print(x1_var.grad)\n",
    "print(\"----------------------------------------\")\n",
    "# This is the gradient Tensor that holds the partial derivatives of our loss function with respect to each entry in x1"
   ]
  },
  {
   "cell_type": "markdown",
   "metadata": {},
   "source": [
    "<a id='five'></a>"
   ]
  },
  {
   "cell_type": "markdown",
   "metadata": {
    "collapsed": true
   },
   "source": [
    "# 5)  Recalculating/Updating Our Weights (based on the gradient) "
   ]
  },
  {
   "cell_type": "markdown",
   "metadata": {},
   "source": [
    "Links:\n",
    "- http://pytorch.org/docs/master/optim.html - optimizer package documentation"
   ]
  },
  {
   "cell_type": "markdown",
   "metadata": {},
   "source": [
    "#### [Home](#outline)  |   [Back](#four)  |   [Next](#six)"
   ]
  },
  {
   "cell_type": "code",
   "execution_count": 11,
   "metadata": {},
   "outputs": [
    {
     "name": "stdout",
     "output_type": "stream",
     "text": [
      "----------------------------------------\n",
      "Weights (before update):\n",
      "Parameter containing:\n",
      " 0.1946  0.4250 -0.4268  0.2506\n",
      "[torch.FloatTensor of size 1x4]\n",
      "\n",
      "Parameter containing:\n",
      "-0.1696\n",
      "[torch.FloatTensor of size 1]\n",
      "\n",
      "----------------------------------------\n",
      "Output (before update):\n",
      "Variable containing:\n",
      " 0.5969\n",
      "[torch.FloatTensor of size 1]\n",
      "\n",
      "----------------------------------------\n",
      "Weights (after update):\n",
      "Parameter containing:\n",
      " 0.0752  0.1862 -0.7849 -0.2269\n",
      "[torch.FloatTensor of size 1x4]\n",
      "\n",
      "Parameter containing:\n",
      "-0.2890\n",
      "[torch.FloatTensor of size 1]\n",
      "\n",
      "----------------------------------------\n",
      "Output (after update):\n",
      "Variable containing:\n",
      "-3.1037\n",
      "[torch.FloatTensor of size 1]\n",
      "\n",
      "----------------------------------------\n"
     ]
    }
   ],
   "source": [
    "x1 = torch.Tensor([1, 2, 3, 4])\n",
    "x1_var = Variable(x1, requires_grad=True)\n",
    "\n",
    "linear_layer1 = nn.Linear(4, 1)\n",
    "\n",
    "target_y = Variable(torch.Tensor([0]), requires_grad=False)\n",
    "\n",
    "predicted_y = linear_layer1(x1_var)\n",
    "\n",
    "loss_function = nn.MSELoss()\n",
    "\n",
    "loss = loss_function(predicted_y, target_y)\n",
    "\n",
    "optimizer = optim.SGD(linear_layer1.parameters(), lr=1e-1)\n",
    "# here we've created an optimizer object that's responsible for changing the weights\n",
    "# we told it which weights to change (those of our linear_layer1 model) and how much to change them (learning rate / lr)\n",
    "# but we haven't quite told it to change anything yet. First we have to calculate the gradient.\n",
    "\n",
    "loss.backward()\n",
    "\n",
    "# now that we have the gradient, let's look at our weights before we change them:\n",
    "\n",
    "print(\"----------------------------------------\")\n",
    "print(\"Weights (before update):\")\n",
    "print(linear_layer1.weight)\n",
    "print(linear_layer1.bias)\n",
    "# let's also look at what our model predicts the output to be:\n",
    "\n",
    "print(\"----------------------------------------\")\n",
    "print(\"Output (before update):\")\n",
    "print(linear_layer1(x1_var))\n",
    "\n",
    "optimizer.step()\n",
    "# we told the optimizer to subtract the learning rate * the gradient from our model weights\n",
    "\n",
    "print(\"----------------------------------------\")\n",
    "print(\"Weights (after update):\")\n",
    "print(linear_layer1.weight)\n",
    "print(linear_layer1.bias)\n",
    "\n",
    "# looks like our weights and biases changed. How do we know they changed for the better?\n",
    "# let's also look at what our model predicts the output to be now:\n",
    "\n",
    "print(\"----------------------------------------\")\n",
    "print(\"Output (after update):\")\n",
    "print(linear_layer1(x1_var))\n",
    "print(\"----------------------------------------\")\n",
    "\n",
    "# wow, that's a huge change (at least for me, and probably for you). It looks like our learning rate might be too high.\n",
    "# perhaps we want to make our model learn slower, compensating with more than one weight update?\n",
    "# next section!"
   ]
  },
  {
   "cell_type": "markdown",
   "metadata": {},
   "source": [
    "<a id='six'></a>"
   ]
  },
  {
   "cell_type": "markdown",
   "metadata": {
    "collapsed": true
   },
   "source": [
    "# 6)  Updating Our Weights More Than Once (i.e. doing step 3-6 a few times aka \"epochs\") "
   ]
  },
  {
   "cell_type": "markdown",
   "metadata": {},
   "source": [
    "Links:\n",
    "- https://wiki.python.org/moin/ForLoop - for loops in python"
   ]
  },
  {
   "cell_type": "markdown",
   "metadata": {},
   "source": [
    "#### [Home](#outline)  |   [Back](#five)  |   [Next](#seven)"
   ]
  },
  {
   "cell_type": "code",
   "execution_count": 12,
   "metadata": {},
   "outputs": [
    {
     "name": "stdout",
     "output_type": "stream",
     "text": [
      "----------------------------------------\n",
      "Output (BEFORE UPDATE):\n",
      "Variable containing:\n",
      "-2.9463\n",
      "[torch.FloatTensor of size 1]\n",
      "\n",
      "----------------------------------------\n",
      "Output (UPDATE 1):\n",
      "Variable containing:\n",
      "-2.9281\n",
      "[torch.FloatTensor of size 1]\n",
      "\n",
      "Should be getting closer to 0...\n",
      "----------------------------------------\n",
      "Output (UPDATE 2):\n",
      "Variable containing:\n",
      "-2.9099\n",
      "[torch.FloatTensor of size 1]\n",
      "\n",
      "Should be getting closer to 0...\n",
      "----------------------------------------\n",
      "Output (UPDATE 3):\n",
      "Variable containing:\n",
      "-2.8919\n",
      "[torch.FloatTensor of size 1]\n",
      "\n",
      "Should be getting closer to 0...\n",
      "----------------------------------------\n"
     ]
    }
   ],
   "source": [
    "# this block of code is organized a little differently than section 5, but it's mostly the same code\n",
    "# the only three differences are:\n",
    "# - The \"Hyperparameter\" constants\n",
    "# - The for loop (for helping the model do <number of epochs> training steps)\n",
    "# - The linear_layer1.zero_grad() function call on line 25. \n",
    "#   (that's just to clear the gradients in memory, since we're starting the training over each iteration/epoch)\n",
    "\n",
    "x1 = torch.Tensor([1, 2, 3, 4])\n",
    "x1_var = Variable(x1, requires_grad=True)\n",
    "\n",
    "linear_layer1 = nn.Linear(4, 1)\n",
    "\n",
    "target_y = Variable(torch.Tensor([0]), requires_grad=False)\n",
    "\n",
    "print(\"----------------------------------------\")\n",
    "print(\"Output (BEFORE UPDATE):\")\n",
    "print(linear_layer1(x1_var))\n",
    "\n",
    "NUMBER_OF_EPOCHS = 3 # Number of times to update the weights\n",
    "LEARNING_RATE = 1e-4 # Notice how I made the learning rate 1000 times smaller\n",
    "loss_function = nn.MSELoss()\n",
    "optimizer = optim.SGD(linear_layer1.parameters(), lr=LEARNING_RATE)\n",
    "\n",
    "for epoch in range(NUMBER_OF_EPOCHS):\n",
    "    linear_layer1.zero_grad()\n",
    "    predicted_y = linear_layer1(x1_var)\n",
    "    loss = loss_function(predicted_y, target_y)\n",
    "    loss.backward()\n",
    "    optimizer.step()\n",
    "    \n",
    "    print(\"----------------------------------------\")\n",
    "    print(\"Output (UPDATE \" + str(epoch + 1) + \"):\")\n",
    "    print(linear_layer1(x1_var))\n",
    "    print(\"Should be getting closer to 0...\")\n",
    "\n",
    "print(\"----------------------------------------\")\n",
    "\n",
    "# here is where you might discover that training could take a *long* time\n",
    "# we're barely doing anything, computationally speaking, and it's already scaling up\n",
    "# in the next section, we're going to add more data (other than one sample with 4 features), \n",
    "# and then, with each epoch, we're only going to use a small portion of it (called a \"batch\")."
   ]
  },
  {
   "cell_type": "markdown",
   "metadata": {},
   "source": [
    "<a id='seven'></a>"
   ]
  },
  {
   "cell_type": "markdown",
   "metadata": {
    "collapsed": true
   },
   "source": [
    "# 7)  Making Our Epochs Only Use A Subset Of The Data (i.e. a \"batch\") "
   ]
  },
  {
   "cell_type": "markdown",
   "metadata": {},
   "source": [
    "Links:\n",
    "- https://discuss.pytorch.org/t/zero-grad-optimizer-or-net/1887 - good discussion on pytorch forums\n",
    "- https://stats.stackexchange.com/questions/49528/batch-gradient-descent-versus-stochastic-gradient-descent - good SE post\n",
    "- http://pytorch.org/docs/master/data.html - data utilities pytorch documentation\n",
    "- http://pytorch.org/tutorials/beginner/data_loading_tutorial.html - pytorch's data loading and processing tutorial"
   ]
  },
  {
   "cell_type": "markdown",
   "metadata": {},
   "source": [
    "#### [Home](#outline)  |   [Back](#six)  |   [Next](#eight)"
   ]
  },
  {
   "cell_type": "code",
   "execution_count": 13,
   "metadata": {},
   "outputs": [
    {
     "name": "stdout",
     "output_type": "stream",
     "text": [
      "----------------------------------------\n",
      "Output (UPDATE: Epoch #1, Batch #1):\n",
      "Variable containing:\n",
      "-0.3699\n",
      " 0.1028\n",
      " 0.0181\n",
      " 0.2637\n",
      "[torch.FloatTensor of size 4x1]\n",
      "\n",
      "Should be getting closer to [0, 1, 1, 0]...\n",
      "----------------------------------------\n",
      "Output (UPDATE: Epoch #1, Batch #2):\n",
      "Variable containing:\n",
      "-0.3698\n",
      " 0.1030\n",
      " 0.0184\n",
      " 0.2639\n",
      "[torch.FloatTensor of size 4x1]\n",
      "\n",
      "Should be getting closer to [0, 1, 1, 0]...\n",
      "----------------------------------------\n",
      "Output (UPDATE: Epoch #2, Batch #1):\n",
      "Variable containing:\n",
      "-0.3695\n",
      " 0.1033\n",
      " 0.0186\n",
      " 0.2643\n",
      "[torch.FloatTensor of size 4x1]\n",
      "\n",
      "Should be getting closer to [0, 1, 1, 0]...\n",
      "----------------------------------------\n",
      "Output (UPDATE: Epoch #2, Batch #2):\n",
      "Variable containing:\n",
      "-0.3694\n",
      " 0.1034\n",
      " 0.0188\n",
      " 0.2644\n",
      "[torch.FloatTensor of size 4x1]\n",
      "\n",
      "Should be getting closer to [0, 1, 1, 0]...\n",
      "----------------------------------------\n",
      "Output (UPDATE: Epoch #3, Batch #1):\n",
      "Variable containing:\n",
      "-0.3691\n",
      " 0.1038\n",
      " 0.0191\n",
      " 0.2648\n",
      "[torch.FloatTensor of size 4x1]\n",
      "\n",
      "Should be getting closer to [0, 1, 1, 0]...\n",
      "----------------------------------------\n",
      "Output (UPDATE: Epoch #3, Batch #2):\n",
      "Variable containing:\n",
      "-0.3690\n",
      " 0.1039\n",
      " 0.0193\n",
      " 0.2650\n",
      "[torch.FloatTensor of size 4x1]\n",
      "\n",
      "Should be getting closer to [0, 1, 1, 0]...\n",
      "----------------------------------------\n"
     ]
    }
   ],
   "source": [
    "x = torch.Tensor([[0, 0, 1, 1],\n",
    "                 [0, 1, 1, 0],\n",
    "                 [1, 0, 1, 0],\n",
    "                 [1, 1, 1, 1]])\n",
    "target_y = torch.Tensor([0, 1, 1, 0])\n",
    "# now, instead of having 1 data sample, we have 4 (oh yea, now we're in the big leagues)\n",
    "# but, pytorch has a DataLoader class to help us scale up, so let's use that.\n",
    "\n",
    "inputs = x # let's use the same naming convention as the pytorch documentation here\n",
    "labels = target_y # and here\n",
    "\n",
    "train = TensorDataset(inputs, labels) # here we're just putting our data samples into a tiny Tensor dataset\n",
    "\n",
    "trainloader = DataLoader(train, batch_size=2, shuffle=False) # and then putting the dataset above into a data loader\n",
    "# the batchsize=2 option just means that, later, when we iterate over it, we want to run our model on 2 samples at a time\n",
    "\n",
    "linear_layer1 = nn.Linear(4, 1)\n",
    "\n",
    "NUMBER_OF_EPOCHS = 3\n",
    "LEARNING_RATE = 1e-4\n",
    "loss_function = nn.MSELoss()\n",
    "optimizer = optim.SGD(linear_layer1.parameters(), lr=LEARNING_RATE)\n",
    "\n",
    "for epoch in range(NUMBER_OF_EPOCHS):\n",
    "    train_loader_iter = iter(trainloader) # here's the iterator we use to iterate over our training set\n",
    "    for batch_idx, (inputs, labels) in enumerate(train_loader_iter): # here we split apart our data so we can run it\n",
    "        linear_layer1.zero_grad()\n",
    "        inputs, labels = Variable(inputs.float()), Variable(labels.float())\n",
    "        predicted_y = linear_layer1(inputs)\n",
    "        loss = loss_function(predicted_y, labels)\n",
    "        loss.backward()\n",
    "        optimizer.step()\n",
    "        print(\"----------------------------------------\")\n",
    "        print(\"Output (UPDATE: Epoch #\" + str(epoch + 1) + \", Batch #\" + str(batch_idx + 1) + \"):\")\n",
    "        print(linear_layer1(Variable(x)))\n",
    "        print(\"Should be getting closer to [0, 1, 1, 0]...\") # but some of them aren't! we need a model that fits better...\n",
    "                                                             # next up, we'll convert this model from regression to a NN\n",
    "\n",
    "print(\"----------------------------------------\")\n"
   ]
  },
  {
   "cell_type": "markdown",
   "metadata": {},
   "source": [
    "<a id='eight'></a>"
   ]
  },
  {
   "cell_type": "markdown",
   "metadata": {
    "collapsed": true
   },
   "source": [
    "# 8)  Changing Our Model from Linear Regression to Neural Network (to make it fit the data better) "
   ]
  },
  {
   "cell_type": "markdown",
   "metadata": {},
   "source": [
    "Links:\n",
    "- https://www.youtube.com/watch?v=aircAruvnKk - Good video on what a neural network is (3blue1brown)\n",
    "- http://neuralnetworksanddeeplearning.com - Good online book on neural networks\n",
    "- https://www.deeplearningbook.org - *The* deep learning book"
   ]
  },
  {
   "cell_type": "markdown",
   "metadata": {},
   "source": [
    "#### [Home](#outline)  |   [Back](#seven)  |   [Next](#nine)"
   ]
  },
  {
   "cell_type": "code",
   "execution_count": 14,
   "metadata": {
    "scrolled": true
   },
   "outputs": [
    {
     "name": "stdout",
     "output_type": "stream",
     "text": [
      "----------------------------------------\n",
      "Output (UPDATE: Epoch #1, Batch #1):\n",
      "Variable containing:\n",
      " 0.2646\n",
      " 0.2660\n",
      " 0.2698\n",
      " 0.2578\n",
      "[torch.FloatTensor of size 4x1]\n",
      "\n",
      "Should be getting closer to [0, 1, 1, 0]...\n",
      "----------------------------------------\n",
      "Output (UPDATE: Epoch #2, Batch #1):\n",
      "Variable containing:\n",
      " 0.2646\n",
      " 0.2661\n",
      " 0.2699\n",
      " 0.2579\n",
      "[torch.FloatTensor of size 4x1]\n",
      "\n",
      "Should be getting closer to [0, 1, 1, 0]...\n",
      "----------------------------------------\n",
      "Output (UPDATE: Epoch #3, Batch #1):\n",
      "Variable containing:\n",
      " 0.2647\n",
      " 0.2662\n",
      " 0.2700\n",
      " 0.2580\n",
      "[torch.FloatTensor of size 4x1]\n",
      "\n",
      "Should be getting closer to [0, 1, 1, 0]...\n",
      "----------------------------------------\n"
     ]
    }
   ],
   "source": [
    "x = torch.Tensor([[0, 0, 1, 1],\n",
    "                 [0, 1, 1, 0],\n",
    "                 [1, 0, 1, 0],\n",
    "                 [1, 1, 1, 1]])\n",
    "target_y = torch.Tensor([0, 1, 1, 0])\n",
    "\n",
    "inputs = x\n",
    "labels = target_y\n",
    "\n",
    "train = TensorDataset(inputs, labels)\n",
    "trainloader = DataLoader(train, batch_size=4, shuffle=False)\n",
    "\n",
    "linear_layer1 = nn.Linear(4, 2)\n",
    "sigmoid = nn.Sigmoid() # this is the nonlinearity that we pass the output from layers 1 and 2 into\n",
    "linear_layer2 = nn.Linear(2, 1) # this is our second layer (i.e. we're going to pass the outputs from sigmoid into here)\n",
    "\n",
    "NUMBER_OF_EPOCHS = 3\n",
    "LEARNING_RATE = 1e-1 # increased learning rate to make learning more obvious\n",
    "loss_function = nn.MSELoss()\n",
    "optimizer = optim.SGD(linear_layer1.parameters(), lr=LEARNING_RATE)\n",
    "\n",
    "for epoch in range(NUMBER_OF_EPOCHS):\n",
    "    train_loader_iter = iter(trainloader)\n",
    "    for batch_idx, (inputs, labels) in enumerate(train_loader_iter):\n",
    "        linear_layer1.zero_grad()\n",
    "        inputs, labels = Variable(inputs.float()), Variable(labels.float())\n",
    "        \n",
    "        linear_layer1_output = linear_layer1(inputs)\n",
    "        sigmoid_output = sigmoid(linear_layer1_output)\n",
    "        linear_layer2_output = linear_layer2(sigmoid_output)\n",
    "        sigmoid_output_2 = sigmoid(linear_layer2_output) # see how the output from one layer just goes into the second?\n",
    "        \n",
    "        loss = loss_function(sigmoid_output_2, labels)\n",
    "        loss.backward()\n",
    "        optimizer.step()\n",
    "        print(\"----------------------------------------\")\n",
    "        print(\"Output (UPDATE: Epoch #\" + str(epoch + 1) + \", Batch #\" + str(batch_idx + 1) + \"):\")\n",
    "        print(sigmoid(linear_layer2(sigmoid(linear_layer1(Variable(x)))))) # the nested functions are getting out of hand..\n",
    "        print(\"Should be getting closer to [0, 1, 1, 0]...\") # they are if you increase the epochs amount... but it's slow!\n",
    "\n",
    "print(\"----------------------------------------\")\n",
    "\n",
    "# Awesome, so we have a neural network (nn). But the nested functions and all the layers are starting to get bloated.\n",
    "# Time to refactor. Luckily, PyTorch provides a class specifically for this: the Net class. We'll port our code there next.\n"
   ]
  },
  {
   "cell_type": "markdown",
   "metadata": {},
   "source": [
    "<a id='nine'></a>"
   ]
  },
  {
   "cell_type": "markdown",
   "metadata": {
    "collapsed": true
   },
   "source": [
    "# 9) Abstracting our Neural Network into its PyTorch class (i.e. making it more maintainable and less messy)"
   ]
  },
  {
   "cell_type": "markdown",
   "metadata": {},
   "source": [
    "Links:\n",
    "- http://pytorch.org/tutorials/beginner/blitz/neural_networks_tutorial.html - pytorch neural network tutorial"
   ]
  },
  {
   "cell_type": "markdown",
   "metadata": {},
   "source": [
    "#### [Home](#outline)  |   [Back](#eight)  |   [Next](#ten)"
   ]
  },
  {
   "cell_type": "code",
   "execution_count": 15,
   "metadata": {},
   "outputs": [
    {
     "name": "stdout",
     "output_type": "stream",
     "text": [
      "----------------------------------------\n",
      "Output (UPDATE: Epoch #1, Batch #1):\n",
      "Variable containing:\n",
      " 0.5994\n",
      " 0.6015\n",
      " 0.5958\n",
      " 0.5919\n",
      "[torch.FloatTensor of size 4x1]\n",
      "\n",
      "Should be getting closer to [0, 1, 1, 0]...\n",
      "----------------------------------------\n",
      "Output (UPDATE: Epoch #2, Batch #1):\n",
      "Variable containing:\n",
      " 0.5982\n",
      " 0.6003\n",
      " 0.5945\n",
      " 0.5907\n",
      "[torch.FloatTensor of size 4x1]\n",
      "\n",
      "Should be getting closer to [0, 1, 1, 0]...\n",
      "----------------------------------------\n",
      "Output (UPDATE: Epoch #3, Batch #1):\n",
      "Variable containing:\n",
      " 0.5969\n",
      " 0.5991\n",
      " 0.5933\n",
      " 0.5895\n",
      "[torch.FloatTensor of size 4x1]\n",
      "\n",
      "Should be getting closer to [0, 1, 1, 0]...\n",
      "----------------------------------------\n"
     ]
    }
   ],
   "source": [
    "x = torch.Tensor([[0, 0, 1, 1],\n",
    "                 [0, 1, 1, 0],\n",
    "                 [1, 0, 1, 0],\n",
    "                 [1, 1, 1, 1]])\n",
    "target_y = torch.Tensor([0, 1, 1, 0])\n",
    "\n",
    "inputs = x\n",
    "labels = target_y\n",
    "\n",
    "train = TensorDataset(inputs, labels)\n",
    "trainloader = DataLoader(train, batch_size=4, shuffle=False)\n",
    "\n",
    "class Net(nn.Module):\n",
    "    def __init__(self):\n",
    "        super(Net, self).__init__()\n",
    "        self.fc1 = nn.Linear(4, 2) # here's where we define the same layers we had earlier\n",
    "        self.fc2 = nn.Linear(2, 1)\n",
    "        self.sigmoid = nn.Sigmoid()\n",
    "\n",
    "    def forward(self, x):\n",
    "        x = self.fc1(x) # the forward function just sends everything through its respective layers\n",
    "        x = sigmoid(x) # including through the sigmoids after each Linear layer\n",
    "        x = self.fc2(x)\n",
    "        x = sigmoid(x)\n",
    "        return x\n",
    "\n",
    "net = Net() # we made a blueprint above for our neural network, now we initialize one.\n",
    "\n",
    "NUMBER_OF_EPOCHS = 3\n",
    "LEARNING_RATE = 1e-1\n",
    "loss_function = nn.MSELoss()\n",
    "optimizer = optim.SGD(net.parameters(), lr=LEARNING_RATE) # slight difference: we optimize w.r.t. the net parameters now\n",
    "\n",
    "for epoch in range(NUMBER_OF_EPOCHS):\n",
    "    train_loader_iter = iter(trainloader)\n",
    "    for batch_idx, (inputs, labels) in enumerate(train_loader_iter):\n",
    "        net.zero_grad() # same here: we have to zero out the gradient for the neural network's inputs\n",
    "        inputs, labels = Variable(inputs.float()), Variable(labels.float())\n",
    "        output = net(inputs) # but now, all we have to do is pass our inputs to the neural net \n",
    "        \n",
    "        loss = loss_function(output, labels)\n",
    "        loss.backward()\n",
    "        optimizer.step()\n",
    "        print(\"----------------------------------------\")\n",
    "        print(\"Output (UPDATE: Epoch #\" + str(epoch + 1) + \", Batch #\" + str(batch_idx + 1) + \"):\")\n",
    "        print(net(Variable(x))) # much better!\n",
    "        print(\"Should be getting closer to [0, 1, 1, 0]...\")\n",
    "\n",
    "print(\"----------------------------------------\")\n",
    "\n",
    "# Awesome, so we have a neural network (nn) in the actual PyTorch Net class.\n",
    "# As it stands right now, there's tons of optimization that can be done here.\n",
    "# But, at the risk of falling for premature optimization, let's get to the end and build our full-fledged CNN first."
   ]
  },
  {
   "cell_type": "markdown",
   "metadata": {},
   "source": [
    "<a id='ten'></a>"
   ]
  },
  {
   "cell_type": "markdown",
   "metadata": {},
   "source": [
    "# 10)  Changing Our Input From Arbitrary Vectors To Images "
   ]
  },
  {
   "cell_type": "markdown",
   "metadata": {},
   "source": [
    "Links:\n",
    "- http://pytorch.org/docs/master/data.html - data utilities pytorch documentation\n",
    "- http://pytorch.org/tutorials/beginner/data_loading_tutorial.html - pytorch's data loading and processing tutorial\n",
    "- http://pytorch.org/docs/master/torchvision/transforms.html - transforms documentation\n",
    "- http://pytorch.org/tutorials/beginner/blitz/cifar10_tutorial.html - pytorch's data classifier tutorial"
   ]
  },
  {
   "cell_type": "markdown",
   "metadata": {},
   "source": [
    "#### [Home](#outline)  |   [Back](#nine)  |   [Next](#eleven)"
   ]
  },
  {
   "cell_type": "code",
   "execution_count": 16,
   "metadata": {},
   "outputs": [
    {
     "name": "stdout",
     "output_type": "stream",
     "text": [
      "Files already downloaded and verified\n",
      "Files already downloaded and verified\n",
      "horse  bird  deer truck\n"
     ]
    },
    {
     "data": {
      "image/png": "[encoded data removed]",
      "text/plain": [
       "<matplotlib.figure.Figure at 0x1c8910a4240>"
      ]
     },
     "metadata": {},
     "output_type": "display_data"
    }
   ],
   "source": [
    "# In preparation for building our Convolutional Neural Network (CNN), we're going to stop using random, arbitrary vectors.\n",
    "# Instead, we're going to use an actual standardized dataset: CIFAR-10\n",
    "# We also have built in modules to help us load/wrangle the dataset, so we're going to use those too! (since we're spoiled)\n",
    "\n",
    "transform = transforms.Compose( # we're going to use this to transform our data to make each sample more uniform\n",
    "   [\n",
    "    transforms.ToTensor(), # converts each sample from a (0-255, 0-255, 0-255) PIL Image format to a (0-1, 0-1, 0-1) FloatTensor format\n",
    "    transforms.Normalize((0.5, 0.5, 0.5), (0.5, 0.5, 0.5)) # for each of the 3 channels of the image, subtract mean 0.5 and divide by stdev 0.5\n",
    "   ]) # the normalization makes each SGD iteration more stable and overall makes convergence easier\n",
    "\n",
    "trainset = torchvision.datasets.CIFAR10(root='./data', train=True,\n",
    "                                        download=True, transform=transform) # this is all we need to get/wrangle the dataset!\n",
    "trainloader = torch.utils.data.DataLoader(trainset, batch_size=4,\n",
    "                                          shuffle=True)\n",
    "\n",
    "testset = torchvision.datasets.CIFAR10(root='./data', train=False,\n",
    "                                       download=True, transform=transform)\n",
    "testloader = torch.utils.data.DataLoader(testset, batch_size=4,\n",
    "                                         shuffle=False)\n",
    "\n",
    "classes = ('plane', 'car', 'bird', 'cat', 'deer', 'dog', 'frog', 'horse', 'ship', 'truck') # each image can have 1 of 10 labels\n",
    "\n",
    "# helper function to show an image\n",
    "def imshow(img):\n",
    "    img = img / 2 + 0.5     # unnormalize\n",
    "    npimg = img.numpy()\n",
    "    plt.imshow(np.transpose(npimg, (1, 2, 0)))\n",
    "\n",
    "# get some random training images\n",
    "dataiter = iter(trainloader)\n",
    "images, labels = dataiter.next()\n",
    "\n",
    "# show images\n",
    "imshow(torchvision.utils.make_grid(images))\n",
    "# print labels\n",
    "print(' '.join('%5s' % classes[labels[j]] for j in range(4)))"
   ]
  },
  {
   "cell_type": "code",
   "execution_count": 17,
   "metadata": {},
   "outputs": [
    {
     "name": "stdout",
     "output_type": "stream",
     "text": [
      "Iteration: 1\n",
      "Iteration: 2\n",
      "Iteration: 3\n"
     ]
    }
   ],
   "source": [
    "# Now that we've got a lot of boilerplate code out of the way, here's how it fits in to what we did above:\n",
    "\n",
    "class Net(nn.Module):\n",
    "    def __init__(self):\n",
    "        super(Net, self).__init__()\n",
    "        self.fc1 = nn.Linear(32 * 32 * 3, 25) # now our first layer accepts inputs the size of the image's total information\n",
    "        self.fc2 = nn.Linear(25, 10) # we also have 25 hidden layers\n",
    "        self.sigmoid = nn.Sigmoid()\n",
    "\n",
    "    def forward(self, x):\n",
    "        x = x.view(-1, 32 * 32 * 3) # this just reshapes our tensor of image data so that we have <batch size>\n",
    "        x = self.fc1(x)             # in one dimension, and then the image data in the other\n",
    "        x = self.sigmoid(x)\n",
    "        x = self.fc2(x)\n",
    "        x = self.sigmoid(x)\n",
    "        return x\n",
    "\n",
    "net = Net()\n",
    "\n",
    "NUMBER_OF_EPOCHS = 3\n",
    "LEARNING_RATE = 1e-1\n",
    "loss_function = nn.CrossEntropyLoss() # Changing our loss / cost function to work with our labels\n",
    "optimizer = optim.SGD(net.parameters(), lr=LEARNING_RATE)\n",
    "\n",
    "for epoch in range(NUMBER_OF_EPOCHS):\n",
    "    train_loader_iter = iter(trainloader)\n",
    "    for batch_idx, (inputs, labels) in enumerate(train_loader_iter):\n",
    "        net.zero_grad()\n",
    "        inputs, labels = Variable(inputs.float()), Variable(labels)\n",
    "        output = net(inputs)\n",
    "        loss = loss_function(output, labels)\n",
    "        loss.backward()\n",
    "        optimizer.step()\n",
    "    print(\"Iteration: \" + str(epoch + 1))"
   ]
  },
  {
   "cell_type": "code",
   "execution_count": 18,
   "metadata": {},
   "outputs": [
    {
     "name": "stdout",
     "output_type": "stream",
     "text": [
      "Predicted:    cat   car  ship plane\n",
      "GroundTruth:    cat  ship  ship plane\n",
      "Accuracy of the network on the 10000 test images: 39 %\n"
     ]
    },
    {
     "data": {
      "image/png": "[encoded data removed]",
      "text/plain": [
       "<matplotlib.figure.Figure at 0x1c898181e48>"
      ]
     },
     "metadata": {},
     "output_type": "display_data"
    }
   ],
   "source": [
    "# Awesome! Now it's trained. Time to test it:\n",
    "\n",
    "dataiter = iter(testloader)\n",
    "images, labels = dataiter.next() # just grabbing a sample from our test data set\n",
    "\n",
    "imshow(torchvision.utils.make_grid(images)) # display the images we're going to predict\n",
    "\n",
    "outputs = net(Variable(images)) # get our output from our neural network\n",
    "_, predicted = torch.max(outputs.data, 1) # get our predictions from the output\n",
    "\n",
    "print('Predicted: ', ' '.join('%5s' % classes[predicted[j]]\n",
    "                              for j in range(4)))\n",
    "\n",
    "# print images\n",
    "print('GroundTruth: ', ' '.join('%5s' % classes[labels[j]] for j in range(4)))\n",
    "\n",
    "# and let's look at the overall accuracy:\n",
    "\n",
    "correct = 0\n",
    "total = 0\n",
    "for data in testloader:\n",
    "    images, labels = data\n",
    "    outputs = net(Variable(images))\n",
    "    _, predicted = torch.max(outputs.data, 1)\n",
    "    total += labels.size(0)\n",
    "    correct += (predicted == labels).sum()\n",
    "\n",
    "print('Accuracy of the network on the 10000 test images: %d %%' % (\n",
    "    100 * correct / total))\n",
    "\n",
    "# Hmm, maybe we can do better. Let's add convolutional layers."
   ]
  },
  {
   "cell_type": "markdown",
   "metadata": {},
   "source": [
    "<a id='eleven'></a>"
   ]
  },
  {
   "cell_type": "markdown",
   "metadata": {},
   "source": [
    "# 11)  Adding A Convolutional Layer "
   ]
  },
  {
   "cell_type": "markdown",
   "metadata": {},
   "source": [
    "#### [Home](#outline)  |   [Back](#ten)  |   [Next](#twelve)"
   ]
  },
  {
   "cell_type": "markdown",
   "metadata": {},
   "source": [
    "Links:\n",
    "- https://github.com/vdumoulin/conv_arithmetic/blob/master/README.md - Convolution animation\n",
    "- http://setosa.io/ev/image-kernels/ - Image kernels explained visually (really helpful)\n",
    "- http://colah.github.io/posts/2014-07-Understanding-Convolutions/ - good blog post on convolutions by Chris Olah\n",
    "- http://cs231n.github.io - CS231n at stanford on CNNs, really good content"
   ]
  },
  {
   "cell_type": "code",
   "execution_count": 19,
   "metadata": {
    "collapsed": true
   },
   "outputs": [],
   "source": [
    "# here's all the boilerplate again:\n",
    "transform = transforms.Compose(\n",
    "   [\n",
    "    transforms.ToTensor(), \n",
    "    transforms.Normalize((0.5, 0.5, 0.5), (0.5, 0.5, 0.5)) \n",
    "   ])\n",
    "trainset = torchvision.datasets.CIFAR10(root='./data', train=True, download=False, transform=transform)\n",
    "trainloader = torch.utils.data.DataLoader(trainset, batch_size=4, shuffle=True)\n",
    "testset = torchvision.datasets.CIFAR10(root='./data', train=False, download=False, transform=transform)\n",
    "testloader = torch.utils.data.DataLoader(testset, batch_size=4, shuffle=False)\n",
    "classes = ('plane', 'car', 'bird', 'cat', 'deer', 'dog', 'frog', 'horse', 'ship', 'truck')\n",
    "\n",
    "def imshow(img):\n",
    "    img = img / 2 + 0.5\n",
    "    npimg = img.numpy()\n",
    "    plt.imshow(np.transpose(npimg, (1, 2, 0)))"
   ]
  },
  {
   "cell_type": "code",
   "execution_count": 20,
   "metadata": {},
   "outputs": [
    {
     "name": "stdout",
     "output_type": "stream",
     "text": [
      "Iteration: 1\n",
      "Iteration: 2\n",
      "Iteration: 3\n"
     ]
    }
   ],
   "source": [
    "class Net(nn.Module):\n",
    "    def __init__(self):\n",
    "        super(Net, self).__init__()\n",
    "        self.conv1 = nn.Conv2d(3, 6, 5) # convolve each of our 3-channel images with 6 different 5x5 kernels, giving us 6 feature maps\n",
    "        self.fc1 = nn.Linear(4704, 120) # but that results in a 4x6x28x28 = 18816 dimensional output, 18816/4 = 4704 inputs per image.\n",
    "        self.fc2 = nn.Linear(120, 10) \n",
    "        self.sigmoid = nn.Sigmoid()\n",
    "\n",
    "    def forward(self, x):\n",
    "        x = self.conv1(x)\n",
    "        x = self.sigmoid(x)\n",
    "        x = x.view(-1, 4704) # since our output from conv1 is 4x6x28x28, we need to flatten it into a 4x4704 (samples x features) tensor to feed it into a linear layer\n",
    "        x = self.fc1(x)             \n",
    "        x = self.sigmoid(x)\n",
    "        x = self.fc2(x)\n",
    "        x = self.sigmoid(x)\n",
    "        return x\n",
    "\n",
    "net = Net()\n",
    "\n",
    "NUMBER_OF_EPOCHS = 3\n",
    "LEARNING_RATE = 1e-1\n",
    "loss_function = nn.CrossEntropyLoss()\n",
    "optimizer = optim.SGD(net.parameters(), lr=LEARNING_RATE)\n",
    "\n",
    "for epoch in range(NUMBER_OF_EPOCHS):\n",
    "    train_loader_iter = iter(trainloader)\n",
    "    for batch_idx, (inputs, labels) in enumerate(train_loader_iter):\n",
    "        net.zero_grad()\n",
    "        inputs, labels = Variable(inputs.float()), Variable(labels)\n",
    "        output = net(inputs)\n",
    "        loss = loss_function(output, labels)\n",
    "        loss.backward()\n",
    "        optimizer.step()\n",
    "    print(\"Iteration: \" + str(epoch + 1))"
   ]
  },
  {
   "cell_type": "code",
   "execution_count": 21,
   "metadata": {},
   "outputs": [
    {
     "name": "stdout",
     "output_type": "stream",
     "text": [
      "Predicted:    cat truck  ship  ship\n",
      "GroundTruth:    cat  ship  ship plane\n"
     ]
    },
    {
     "data": {
      "image/png": "[encoded data removed]",
      "text/plain": [
       "<matplotlib.figure.Figure at 0x1c89a15e518>"
      ]
     },
     "metadata": {},
     "output_type": "display_data"
    }
   ],
   "source": [
    "# Holy guacamole, that takes a LOT longer. Those convolutions are expensive.\n",
    "# In the next section we'll make that a little quicker.\n",
    "# For now, let's see how much our predictions improved.\n",
    "\n",
    "dataiter = iter(testloader)\n",
    "images, labels = dataiter.next()\n",
    "imshow(torchvision.utils.make_grid(images))\n",
    "outputs = net(Variable(images))\n",
    "_, predicted = torch.max(outputs.data, 1)\n",
    "print('Predicted: ', ' '.join('%5s' % classes[predicted[j]]\n",
    "                              for j in range(4)))\n",
    "print('GroundTruth: ', ' '.join('%5s' % classes[labels[j]] for j in range(4)))"
   ]
  },
  {
   "cell_type": "code",
   "execution_count": 22,
   "metadata": {},
   "outputs": [
    {
     "name": "stdout",
     "output_type": "stream",
     "text": [
      "Accuracy of the network on the 10000 test images: 45 %\n"
     ]
    }
   ],
   "source": [
    "correct = 0\n",
    "total = 0\n",
    "for data in testloader:\n",
    "    images, labels = data\n",
    "    outputs = net(Variable(images))\n",
    "    _, predicted = torch.max(outputs.data, 1)\n",
    "    total += labels.size(0)\n",
    "    correct += (predicted == labels).sum()\n",
    "print('Accuracy of the network on the 10000 test images: %d %%' % (\n",
    "    100 * correct / total))\n",
    "\n",
    "# Okay... pretty good improvement. Again, before we prematurely optimize, let's add some pooling layers to make it quicker.\n",
    "# THEN we'll go ham on the optimizations."
   ]
  },
  {
   "cell_type": "markdown",
   "metadata": {},
   "source": [
    "<a id='twelve'></a>"
   ]
  },
  {
   "cell_type": "markdown",
   "metadata": {},
   "source": [
    "# 12)  Adding A Pooling Layer "
   ]
  },
  {
   "cell_type": "markdown",
   "metadata": {},
   "source": [
    "Links:\n",
    "- https://www.quora.com/What-is-max-pooling-in-convolutional-neural-networks - Quora; what is max pooling?\n",
    "- http://pytorch.org/docs/master/_modules/torch/nn/modules/pooling.html - pytorch documentation on pooling"
   ]
  },
  {
   "cell_type": "markdown",
   "metadata": {},
   "source": [
    "#### [Home](#outline)  |   [Back](#eleven)  |   [Next](#thirteen)"
   ]
  },
  {
   "cell_type": "code",
   "execution_count": 23,
   "metadata": {
    "collapsed": true
   },
   "outputs": [],
   "source": [
    "# and again, boilerplate:\n",
    "transform = transforms.Compose(\n",
    "   [\n",
    "    transforms.ToTensor(), \n",
    "    transforms.Normalize((0.5, 0.5, 0.5), (0.5, 0.5, 0.5)) \n",
    "   ])\n",
    "trainset = torchvision.datasets.CIFAR10(root='./data', train=True, download=False, transform=transform)\n",
    "trainloader = torch.utils.data.DataLoader(trainset, batch_size=4, shuffle=True)\n",
    "testset = torchvision.datasets.CIFAR10(root='./data', train=False, download=False, transform=transform)\n",
    "testloader = torch.utils.data.DataLoader(testset, batch_size=4, shuffle=False)\n",
    "classes = ('plane', 'car', 'bird', 'cat', 'deer', 'dog', 'frog', 'horse', 'ship', 'truck')\n",
    "\n",
    "def imshow(img):\n",
    "    img = img / 2 + 0.5\n",
    "    npimg = img.numpy()\n",
    "    plt.imshow(np.transpose(npimg, (1, 2, 0)))"
   ]
  },
  {
   "cell_type": "code",
   "execution_count": 24,
   "metadata": {},
   "outputs": [
    {
     "name": "stdout",
     "output_type": "stream",
     "text": [
      "Iteration: 1\n",
      "Iteration: 2\n",
      "Iteration: 3\n"
     ]
    }
   ],
   "source": [
    "class Net(nn.Module):\n",
    "    def __init__(self):\n",
    "        super(Net, self).__init__()\n",
    "        self.conv1 = nn.Conv2d(3, 6, 5)\n",
    "        self.pool = nn.MaxPool2d(2, 2) # in any 2x2 square on each of our feature maps, take the most important (highest) one\n",
    "        self.fc1 = nn.Linear(1176, 120) # since we've pooled our outputs from the convolution, our input is reduced: 4704 -> 1176\n",
    "        self.fc2 = nn.Linear(120, 10) \n",
    "        self.sigmoid = nn.Sigmoid()\n",
    "\n",
    "    def forward(self, x):\n",
    "        x = self.conv1(x)\n",
    "        x = self.sigmoid(x) # returns x of size: torch.Size([4, 6, 28, 28])\n",
    "        x = self.pool(x) # returns x of size: torch.Size([4, 6, 14, 14]) (so we have to adjust our linear input again)\n",
    "        x = x.view(-1, 1176) # now our input to the linear layer is going to be 4 by 6 * 14 * 14 = 1176\n",
    "        x = self.fc1(x)             \n",
    "        x = self.sigmoid(x)\n",
    "        x = self.fc2(x)\n",
    "        x = self.sigmoid(x)\n",
    "        return x\n",
    "\n",
    "net = Net()\n",
    "\n",
    "NUMBER_OF_EPOCHS = 3\n",
    "LEARNING_RATE = 1e-1\n",
    "loss_function = nn.CrossEntropyLoss()\n",
    "optimizer = optim.SGD(net.parameters(), lr=LEARNING_RATE)\n",
    "\n",
    "for epoch in range(NUMBER_OF_EPOCHS):\n",
    "    train_loader_iter = iter(trainloader)\n",
    "    for batch_idx, (inputs, labels) in enumerate(train_loader_iter):\n",
    "        net.zero_grad()\n",
    "        inputs, labels = Variable(inputs.float()), Variable(labels)\n",
    "        output = net(inputs)\n",
    "        loss = loss_function(output, labels)\n",
    "        loss.backward()\n",
    "        optimizer.step()\n",
    "    print(\"Iteration: \" + str(epoch + 1))"
   ]
  },
  {
   "cell_type": "code",
   "execution_count": 25,
   "metadata": {},
   "outputs": [
    {
     "name": "stdout",
     "output_type": "stream",
     "text": [
      "Predicted:    cat   car  ship  ship\n",
      "GroundTruth:    cat  ship  ship plane\n"
     ]
    },
    {
     "data": {
      "image/png": "[encoded data removed]",
      "text/plain": [
       "<matplotlib.figure.Figure at 0x1c8970ec240>"
      ]
     },
     "metadata": {},
     "output_type": "display_data"
    }
   ],
   "source": [
    "# Pretty significant speedup! Let's see how it affects accuracy:\n",
    "\n",
    "dataiter = iter(testloader)\n",
    "images, labels = dataiter.next()\n",
    "imshow(torchvision.utils.make_grid(images))\n",
    "outputs = net(Variable(images))\n",
    "_, predicted = torch.max(outputs.data, 1)\n",
    "print('Predicted: ', ' '.join('%5s' % classes[predicted[j]]\n",
    "                              for j in range(4)))\n",
    "print('GroundTruth: ', ' '.join('%5s' % classes[labels[j]] for j in range(4)))"
   ]
  },
  {
   "cell_type": "code",
   "execution_count": 26,
   "metadata": {},
   "outputs": [
    {
     "name": "stdout",
     "output_type": "stream",
     "text": [
      "Accuracy of the network on the 10000 test images: 45 %\n"
     ]
    }
   ],
   "source": [
    "correct = 0\n",
    "total = 0\n",
    "for data in testloader:\n",
    "    images, labels = data\n",
    "    outputs = net(Variable(images))\n",
    "    _, predicted = torch.max(outputs.data, 1)\n",
    "    total += labels.size(0)\n",
    "    correct += (predicted == labels).sum()\n",
    "print('Accuracy of the network on the 10000 test images: %d %%' % (\n",
    "    100 * correct / total))\n",
    "\n",
    "# Not by much! Awesome!\n",
    "# Now, let's add a few more layers, change our nonlinearities around, and do some other house keeping:"
   ]
  },
  {
   "cell_type": "markdown",
   "metadata": {},
   "source": [
    " <a id='thirteen'></a>"
   ]
  },
  {
   "cell_type": "markdown",
   "metadata": {},
   "source": [
    "# 13) Do Some Final Optimizations (i.e. making our first sigmoid a \"ReLU\",  and adding more layers)"
   ]
  },
  {
   "cell_type": "markdown",
   "metadata": {},
   "source": [
    "Links:\n",
    "- https://github.com/Kulbear/deep-learning-nano-foundation/wiki/ReLU-and-Softmax-Activation-Functions - different activation functions\n",
    "- https://stats.stackexchange.com/questions/126238/what-are-the-advantages-of-relu-over-sigmoid-function-in-deep-neural-networks - advantages of ReLU over sigmoid"
   ]
  },
  {
   "cell_type": "markdown",
   "metadata": {},
   "source": [
    "#### [Home](#outline)  |   [Back](#twelve)  |   [Next](#fourteen)"
   ]
  },
  {
   "cell_type": "code",
   "execution_count": 27,
   "metadata": {
    "collapsed": true
   },
   "outputs": [],
   "source": [
    "transform = transforms.Compose(\n",
    "   [\n",
    "    transforms.ToTensor(), \n",
    "    transforms.Normalize((0.5, 0.5, 0.5), (0.5, 0.5, 0.5)) \n",
    "   ])\n",
    "trainset = torchvision.datasets.CIFAR10(root='./data', train=True, download=False, transform=transform)\n",
    "trainloader = torch.utils.data.DataLoader(trainset, batch_size=4, shuffle=True)\n",
    "testset = torchvision.datasets.CIFAR10(root='./data', train=False, download=False, transform=transform)\n",
    "testloader = torch.utils.data.DataLoader(testset, batch_size=4, shuffle=False)\n",
    "classes = ('plane', 'car', 'bird', 'cat', 'deer', 'dog', 'frog', 'horse', 'ship', 'truck')\n",
    "\n",
    "def imshow(img):\n",
    "    img = img / 2 + 0.5\n",
    "    npimg = img.numpy()\n",
    "    plt.imshow(np.transpose(npimg, (1, 2, 0)))"
   ]
  },
  {
   "cell_type": "code",
   "execution_count": 28,
   "metadata": {},
   "outputs": [
    {
     "name": "stdout",
     "output_type": "stream",
     "text": [
      "Iteration: 1\n",
      "Iteration: 6\n",
      "Iteration: 11\n",
      "Iteration: 16\n",
      "Iteration: 21\n"
     ]
    }
   ],
   "source": [
    "class Net(nn.Module):\n",
    "    def __init__(self):\n",
    "        super(Net, self).__init__()\n",
    "        self.conv1 = nn.Conv2d(3, 10, 5) # Let's add more feature maps - that might help\n",
    "        self.pool = nn.MaxPool2d(2, 2)\n",
    "        self.conv2 = nn.Conv2d(10, 20, 5) # And another conv layer with even more feature maps\n",
    "        self.fc1 = nn.Linear(20 * 5 * 5, 120) # and finally, adjusting our first linear layer's input to our previous output\n",
    "        self.fc2 = nn.Linear(120, 10)\n",
    "\n",
    "    def forward(self, x):\n",
    "        x = self.conv1(x)\n",
    "        x = F.relu(x) # we're changing our nonlinearity / activation function from sigmoid to ReLU for a slight speedup\n",
    "        x = self.pool(x)\n",
    "        x = self.conv2(x)\n",
    "        x = F.relu(x)\n",
    "        x = self.pool(x) # after this pooling layer, we're down to a torch.Size([4, 20, 5, 5]) tensor.\n",
    "        x = x.view(-1, 20 * 5 * 5) # so let's adjust our tensor again.\n",
    "        x = self.fc1(x)             \n",
    "        x = F.relu(x)\n",
    "        x = self.fc2(x)\n",
    "        x = F.relu(x)\n",
    "        return x\n",
    "\n",
    "# net = Net()\n",
    "net = Net().cuda() # Let's make our NN run on the GPU (I didn't splurge on this GTX 1080 for nothing...)\n",
    "\n",
    "NUMBER_OF_EPOCHS = 25 # Let's also increase our training cycles\n",
    "LEARNING_RATE = 1e-2 # And decrease our learning rate a little bit to compensate\n",
    "loss_function = nn.CrossEntropyLoss()\n",
    "optimizer = optim.SGD(net.parameters(), lr=LEARNING_RATE)\n",
    "\n",
    "for epoch in range(NUMBER_OF_EPOCHS):\n",
    "    train_loader_iter = iter(trainloader)\n",
    "    for batch_idx, (inputs, labels) in enumerate(train_loader_iter):\n",
    "        net.zero_grad()\n",
    "        inputs, labels = Variable(inputs.float().cuda()), Variable(labels.cuda()) # Let's also make these tensors GPU compatible\n",
    "        output = net(inputs)\n",
    "        loss = loss_function(output, labels)\n",
    "        loss.backward()\n",
    "        optimizer.step()\n",
    "    if epoch % 5 is 0:\n",
    "        print(\"Iteration: \" + str(epoch + 1))"
   ]
  },
  {
   "cell_type": "code",
   "execution_count": 29,
   "metadata": {},
   "outputs": [
    {
     "name": "stdout",
     "output_type": "stream",
     "text": [
      "Predicted:    cat  ship plane plane\n",
      "GroundTruth:    cat  ship  ship plane\n"
     ]
    },
    {
     "data": {
      "image/png": "[encoded data removed]",
      "text/plain": [
       "<matplotlib.figure.Figure at 0x1c89815d400>"
      ]
     },
     "metadata": {},
     "output_type": "display_data"
    }
   ],
   "source": [
    "dataiter = iter(testloader)\n",
    "images, labels = dataiter.next()\n",
    "imshow(torchvision.utils.make_grid(images))\n",
    "outputs = net(Variable(images.cuda()))\n",
    "_, predicted = torch.max(outputs.data, 1)\n",
    "print('Predicted: ', ' '.join('%5s' % classes[predicted[j]]\n",
    "                              for j in range(4)))\n",
    "print('GroundTruth: ', ' '.join('%5s' % classes[labels[j]] for j in range(4)))"
   ]
  },
  {
   "cell_type": "code",
   "execution_count": 30,
   "metadata": {},
   "outputs": [
    {
     "name": "stdout",
     "output_type": "stream",
     "text": [
      "Accuracy of the network on the 10000 test images: 61 %\n"
     ]
    }
   ],
   "source": [
    "correct = 0\n",
    "total = 0\n",
    "for data in testloader:\n",
    "    images, labels = data\n",
    "    inputs = Variable(images.cuda())\n",
    "    labels = labels.cuda()\n",
    "    outputs = net(inputs)\n",
    "    _, predicted = torch.max(outputs.data, 1)\n",
    "    total += labels.size(0)\n",
    "    correct += (predicted == labels).sum()\n",
    "print('Accuracy of the network on the 10000 test images: %d %%' % (\n",
    "    100 * correct / total))\n",
    "\n",
    "# Awesome! A lot better!"
   ]
  },
  {
   "cell_type": "markdown",
   "metadata": {},
   "source": [
    " <a id='fourteen'></a>"
   ]
  },
  {
   "cell_type": "markdown",
   "metadata": {},
   "source": [
    "# 14)  Bask... in the glory that is our newly created Convolutional Neural Network (CNN)!"
   ]
  },
  {
   "cell_type": "markdown",
   "metadata": {},
   "source": [
    "Links:\n",
    "- http://www.yaronhadad.com/deep-learning-most-amazing-applications/ - stuff you can do now\n",
    "- https://machinelearningmastery.com/inspirational-applications-deep-learning/ - more stuff you can do"
   ]
  },
  {
   "cell_type": "markdown",
   "metadata": {},
   "source": [
    "#### [Home](#outline)  |   [Back](#thirteen)"
   ]
  },
  {
   "cell_type": "code",
   "execution_count": 31,
   "metadata": {},
   "outputs": [
    {
     "name": "stdout",
     "output_type": "stream",
     "text": [
      "Iteration: 1\n",
      "Iteration: 6\n",
      "Iteration: 11\n",
      "Iteration: 16\n",
      "Iteration: 21\n",
      "Predicted:  truck   car plane plane\n",
      "GroundTruth:    cat  ship  ship plane\n",
      "Accuracy of the network on the 10000 test images: 62 %\n"
     ]
    },
    {
     "data": {
      "image/png": "[encoded data removed]",
      "text/plain": [
       "<matplotlib.figure.Figure at 0x1c89c2e3978>"
      ]
     },
     "metadata": {},
     "output_type": "display_data"
    }
   ],
   "source": [
    "# Awesome - we have a full blown convolutional neural network!\n",
    "# Let's condense some stuff and put it all together without comments:\n",
    "\n",
    "transform = transforms.Compose(\n",
    "   [\n",
    "    transforms.ToTensor(), \n",
    "    transforms.Normalize((0.5, 0.5, 0.5), (0.5, 0.5, 0.5)) \n",
    "   ])\n",
    "trainset = torchvision.datasets.CIFAR10(root='./data', train=True, download=False, transform=transform)\n",
    "trainloader = torch.utils.data.DataLoader(trainset, batch_size=4, shuffle=True)\n",
    "testset = torchvision.datasets.CIFAR10(root='./data', train=False, download=False, transform=transform)\n",
    "testloader = torch.utils.data.DataLoader(testset, batch_size=4, shuffle=False)\n",
    "classes = ('plane', 'car', 'bird', 'cat', 'deer', 'dog', 'frog', 'horse', 'ship', 'truck')\n",
    "\n",
    "def imshow(img):\n",
    "    img = img / 2 + 0.5\n",
    "    npimg = img.numpy()\n",
    "    plt.imshow(np.transpose(npimg, (1, 2, 0)))\n",
    "\n",
    "class Net(nn.Module):\n",
    "    def __init__(self):\n",
    "        super(Net, self).__init__()\n",
    "        self.conv1 = nn.Conv2d(3, 10, 5) \n",
    "        self.pool = nn.MaxPool2d(2, 2)\n",
    "        self.conv2 = nn.Conv2d(10, 20, 5)\n",
    "        self.fc1 = nn.Linear(20 * 5 * 5, 120)\n",
    "        self.fc2 = nn.Linear(120, 10)\n",
    "\n",
    "    def forward(self, x):\n",
    "        x = self.pool(F.relu(self.conv1(x)))\n",
    "        x = self.pool(F.relu(self.conv2(x)))\n",
    "        x = x.view(-1, 20 * 5 * 5)           \n",
    "        x = F.relu(self.fc1(x) )\n",
    "        x = F.relu(self.fc2(x))\n",
    "        return x\n",
    "\n",
    "net = Net().cuda()\n",
    "\n",
    "NUMBER_OF_EPOCHS = 25\n",
    "LEARNING_RATE = 1e-2\n",
    "loss_function = nn.CrossEntropyLoss()\n",
    "optimizer = optim.SGD(net.parameters(), lr=LEARNING_RATE)\n",
    "\n",
    "for epoch in range(NUMBER_OF_EPOCHS):\n",
    "    train_loader_iter = iter(trainloader)\n",
    "    for batch_idx, (inputs, labels) in enumerate(train_loader_iter):\n",
    "        net.zero_grad()\n",
    "        inputs, labels = Variable(inputs.float().cuda()), Variable(labels.cuda())\n",
    "        output = net(inputs)\n",
    "        loss = loss_function(output, labels)\n",
    "        loss.backward()\n",
    "        optimizer.step()\n",
    "    if epoch % 5 is 0:\n",
    "        print(\"Iteration: \" + str(epoch + 1))\n",
    "\n",
    "dataiter = iter(testloader)\n",
    "images, labels = dataiter.next()\n",
    "imshow(torchvision.utils.make_grid(images))\n",
    "outputs = net(Variable(images.cuda()))\n",
    "_, predicted = torch.max(outputs.data, 1)\n",
    "print('Predicted: ', ' '.join('%5s' % classes[predicted[j]]\n",
    "                              for j in range(4)))\n",
    "print('GroundTruth: ', ' '.join('%5s' % classes[labels[j]] for j in range(4)))\n",
    "\n",
    "correct = 0\n",
    "total = 0\n",
    "for data in testloader:\n",
    "    images, labels = data\n",
    "    labels = labels.cuda()\n",
    "    outputs = net(Variable(images.cuda()))\n",
    "    _, predicted = torch.max(outputs.data, 1)\n",
    "    total += labels.size(0)\n",
    "    correct += (predicted == labels).sum()\n",
    "print('Accuracy of the network on the 10000 test images: %d %%' % (\n",
    "    100 * correct / total))"
   ]
  }
 ],
 "metadata": {
  "kernelspec": {
   "display_name": "Python (pyt)",
   "language": "python",
   "name": "pyt"
  },
  "language_info": {
   "codemirror_mode": {
    "name": "ipython",
    "version": 3
   },
   "file_extension": ".py",
   "mimetype": "text/x-python",
   "name": "python",
   "nbconvert_exporter": "python",
   "pygments_lexer": "ipython3",
   "version": "3.6.3"
  }
 },
 "nbformat": 4,
 "nbformat_minor": 2
}
